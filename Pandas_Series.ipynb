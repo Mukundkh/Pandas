{
  "nbformat": 4,
  "nbformat_minor": 0,
  "metadata": {
    "colab": {
      "name": "Pandas_Series.ipynb",
      "provenance": []
    },
    "kernelspec": {
      "name": "python3",
      "display_name": "Python 3"
    },
    "language_info": {
      "name": "python"
    }
  },
  "cells": [
    {
      "cell_type": "code",
      "execution_count": 1,
      "metadata": {
        "colab": {
          "base_uri": "https://localhost:8080/"
        },
        "id": "3PsLDIDIQIFe",
        "outputId": "384b0a1d-329d-4f6e-f14c-6117903526e8"
      },
      "outputs": [
        {
          "output_type": "stream",
          "name": "stdout",
          "text": [
            "Requirement already satisfied: numpy in /usr/local/lib/python3.7/dist-packages (1.19.5)\n"
          ]
        }
      ],
      "source": [
        "pip install numpy"
      ]
    },
    {
      "cell_type": "code",
      "source": [
        "pip install pandas"
      ],
      "metadata": {
        "colab": {
          "base_uri": "https://localhost:8080/"
        },
        "id": "Tdxy4QETQwG-",
        "outputId": "6a05abbc-bf61-46a1-eca8-2ef0b60cffe3"
      },
      "execution_count": 2,
      "outputs": [
        {
          "output_type": "stream",
          "name": "stdout",
          "text": [
            "Requirement already satisfied: pandas in /usr/local/lib/python3.7/dist-packages (1.1.5)\n",
            "Requirement already satisfied: pytz>=2017.2 in /usr/local/lib/python3.7/dist-packages (from pandas) (2018.9)\n",
            "Requirement already satisfied: numpy>=1.15.4 in /usr/local/lib/python3.7/dist-packages (from pandas) (1.19.5)\n",
            "Requirement already satisfied: python-dateutil>=2.7.3 in /usr/local/lib/python3.7/dist-packages (from pandas) (2.8.2)\n",
            "Requirement already satisfied: six>=1.5 in /usr/local/lib/python3.7/dist-packages (from python-dateutil>=2.7.3->pandas) (1.15.0)\n"
          ]
        }
      ]
    },
    {
      "cell_type": "code",
      "source": [
        "import numpy as np\n",
        "import pandas as pd"
      ],
      "metadata": {
        "id": "OoJdrhxPQ5DD"
      },
      "execution_count": 3,
      "outputs": []
    },
    {
      "cell_type": "code",
      "source": [
        "#help(pd.Series)"
      ],
      "metadata": {
        "id": "9AuivnEuQ8oV"
      },
      "execution_count": 5,
      "outputs": []
    },
    {
      "cell_type": "code",
      "source": [
        "myIndex = ['USA', 'CANADA', 'MEXICO']\n",
        "myData = [1234,1443,5443]\n"
      ],
      "metadata": {
        "id": "UMTyWJd9RGtu"
      },
      "execution_count": 6,
      "outputs": []
    },
    {
      "cell_type": "code",
      "source": [
        "mySeries = pd.Series(data=myData)"
      ],
      "metadata": {
        "id": "7cuDJC9hRpE3"
      },
      "execution_count": 7,
      "outputs": []
    },
    {
      "cell_type": "code",
      "source": [
        "mySeries"
      ],
      "metadata": {
        "colab": {
          "base_uri": "https://localhost:8080/"
        },
        "id": "0UEb4d96RzWa",
        "outputId": "87655980-76d0-4800-dd07-ff9c8b7bde51"
      },
      "execution_count": 8,
      "outputs": [
        {
          "output_type": "execute_result",
          "data": {
            "text/plain": [
              "0    1234\n",
              "1    1443\n",
              "2    5443\n",
              "dtype: int64"
            ]
          },
          "metadata": {},
          "execution_count": 8
        }
      ]
    },
    {
      "cell_type": "code",
      "source": [
        "type(mySeries)"
      ],
      "metadata": {
        "colab": {
          "base_uri": "https://localhost:8080/"
        },
        "id": "nXpJCQ5yR0YH",
        "outputId": "1ca540e6-2907-4f43-d3d8-6e45cbe2ec6c"
      },
      "execution_count": 9,
      "outputs": [
        {
          "output_type": "execute_result",
          "data": {
            "text/plain": [
              "pandas.core.series.Series"
            ]
          },
          "metadata": {},
          "execution_count": 9
        }
      ]
    },
    {
      "cell_type": "code",
      "source": [
        "mySeries = pd.Series(data=myData, index=myIndex)"
      ],
      "metadata": {
        "id": "brvURNwJR9lO"
      },
      "execution_count": 10,
      "outputs": []
    },
    {
      "cell_type": "code",
      "source": [
        "mySeries"
      ],
      "metadata": {
        "colab": {
          "base_uri": "https://localhost:8080/"
        },
        "id": "6csr94eLSTNF",
        "outputId": "5b589940-c953-404f-e54f-d8b43f6396ee"
      },
      "execution_count": 11,
      "outputs": [
        {
          "output_type": "execute_result",
          "data": {
            "text/plain": [
              "USA       1234\n",
              "CANADA    1443\n",
              "MEXICO    5443\n",
              "dtype: int64"
            ]
          },
          "metadata": {},
          "execution_count": 11
        }
      ]
    },
    {
      "cell_type": "code",
      "source": [
        "mySeries['CANADA']\n",
        "#mySeries[1]"
      ],
      "metadata": {
        "colab": {
          "base_uri": "https://localhost:8080/"
        },
        "id": "FwIdazbvSUbO",
        "outputId": "6cb4b6d1-cf30-4984-81ba-5cdb841ce719"
      },
      "execution_count": 15,
      "outputs": [
        {
          "output_type": "execute_result",
          "data": {
            "text/plain": [
              "1443"
            ]
          },
          "metadata": {},
          "execution_count": 15
        }
      ]
    },
    {
      "cell_type": "code",
      "source": [
        "#pandas indentifies dict key as index and its content as value\n",
        "ages = {\n",
        "    'Sam' : 5,\n",
        "    'Mukund' : 21,\n",
        "    'Somil' : 25\n",
        "}"
      ],
      "metadata": {
        "id": "oNmCyuPpSZmv"
      },
      "execution_count": 24,
      "outputs": []
    },
    {
      "cell_type": "code",
      "source": [
        "x = pd.Series(ages)"
      ],
      "metadata": {
        "id": "7aTKSX1nTbxL"
      },
      "execution_count": 25,
      "outputs": []
    },
    {
      "cell_type": "code",
      "source": [
        "print(x)"
      ],
      "metadata": {
        "colab": {
          "base_uri": "https://localhost:8080/"
        },
        "id": "iL0iS8lWTiaW",
        "outputId": "0d931857-0040-44f5-b477-be623ea1471b"
      },
      "execution_count": 26,
      "outputs": [
        {
          "output_type": "stream",
          "name": "stdout",
          "text": [
            "Sam        5\n",
            "Mukund    21\n",
            "Somil     25\n",
            "dtype: int64\n"
          ]
        }
      ]
    },
    {
      "cell_type": "code",
      "source": [
        "x['Somil']"
      ],
      "metadata": {
        "colab": {
          "base_uri": "https://localhost:8080/"
        },
        "id": "wDspUafZTnjX",
        "outputId": "38b6c91f-27d8-453d-fdf6-3f2c4d271958"
      },
      "execution_count": 27,
      "outputs": [
        {
          "output_type": "execute_result",
          "data": {
            "text/plain": [
              "25"
            ]
          },
          "metadata": {},
          "execution_count": 27
        }
      ]
    },
    {
      "cell_type": "code",
      "source": [
        "#Sales data\n",
        "q1 = {\n",
        "    'INDIA' : 90,\n",
        "    'CHINA' : 120,\n",
        "    'BRAZIL' : 50,\n",
        "    'USA' : 80\n",
        "}\n",
        "q2 = {\n",
        "    'USA' : 120,\n",
        "    'INDIA' : 200,\n",
        "    'AUSTRALIA' : 210,\n",
        "    'CHINA' : 80\n",
        "}"
      ],
      "metadata": {
        "id": "9l2v-Dd6T9hj"
      },
      "execution_count": 48,
      "outputs": []
    },
    {
      "cell_type": "code",
      "source": [
        "#Convert the following dict. into pandas series data structure\n",
        "q1_sales = pd.Series(q1)\n",
        "q2_sales = pd.Series(q2)"
      ],
      "metadata": {
        "id": "0YsqO0-MVd7u"
      },
      "execution_count": 49,
      "outputs": []
    },
    {
      "cell_type": "code",
      "source": [
        "q1_sales"
      ],
      "metadata": {
        "colab": {
          "base_uri": "https://localhost:8080/"
        },
        "id": "5zkAMHoUVz3c",
        "outputId": "0eb709e1-88e4-425f-c945-b7a52920c393"
      },
      "execution_count": 50,
      "outputs": [
        {
          "output_type": "execute_result",
          "data": {
            "text/plain": [
              "INDIA      90\n",
              "CHINA     120\n",
              "BRAZIL     50\n",
              "USA        80\n",
              "dtype: int64"
            ]
          },
          "metadata": {},
          "execution_count": 50
        }
      ]
    },
    {
      "cell_type": "code",
      "source": [
        "q2_sales"
      ],
      "metadata": {
        "colab": {
          "base_uri": "https://localhost:8080/"
        },
        "id": "BWClIF6zV1ER",
        "outputId": "c5764caa-6eab-46ef-b14d-c4197d01be96"
      },
      "execution_count": 51,
      "outputs": [
        {
          "output_type": "execute_result",
          "data": {
            "text/plain": [
              "USA          120\n",
              "INDIA        200\n",
              "AUSTRALIA    210\n",
              "CHINA         80\n",
              "dtype: int64"
            ]
          },
          "metadata": {},
          "execution_count": 51
        }
      ]
    },
    {
      "cell_type": "code",
      "source": [
        "q2_sales['USA']"
      ],
      "metadata": {
        "colab": {
          "base_uri": "https://localhost:8080/"
        },
        "id": "sQ6vV18aV2bo",
        "outputId": "372b1d0b-2fb5-430b-e95a-721c5034fe92"
      },
      "execution_count": 52,
      "outputs": [
        {
          "output_type": "execute_result",
          "data": {
            "text/plain": [
              "120"
            ]
          },
          "metadata": {},
          "execution_count": 52
        }
      ]
    },
    {
      "cell_type": "code",
      "source": [
        "q1_sales['INDIA']"
      ],
      "metadata": {
        "colab": {
          "base_uri": "https://localhost:8080/"
        },
        "id": "DSXV0qb_WAwo",
        "outputId": "7cf6ad3d-262c-4f2a-8919-c5b1c4bf3b93"
      },
      "execution_count": 53,
      "outputs": [
        {
          "output_type": "execute_result",
          "data": {
            "text/plain": [
              "90"
            ]
          },
          "metadata": {},
          "execution_count": 53
        }
      ]
    },
    {
      "cell_type": "code",
      "source": [
        "q1_sales.keys()"
      ],
      "metadata": {
        "colab": {
          "base_uri": "https://localhost:8080/"
        },
        "id": "O1AjG4KcWSld",
        "outputId": "a30b1b72-3952-4aaa-bca6-bd65d6b841bc"
      },
      "execution_count": 54,
      "outputs": [
        {
          "output_type": "execute_result",
          "data": {
            "text/plain": [
              "Index(['INDIA', 'CHINA', 'BRAZIL', 'USA'], dtype='object')"
            ]
          },
          "metadata": {},
          "execution_count": 54
        }
      ]
    },
    {
      "cell_type": "code",
      "source": [
        "np.array([1,2]) * 3"
      ],
      "metadata": {
        "colab": {
          "base_uri": "https://localhost:8080/"
        },
        "id": "_EMsnG0mWtTt",
        "outputId": "2a26cd83-2b45-40ae-ca81-a0faa8aaf4bb"
      },
      "execution_count": 55,
      "outputs": [
        {
          "output_type": "execute_result",
          "data": {
            "text/plain": [
              "array([3, 6])"
            ]
          },
          "metadata": {},
          "execution_count": 55
        }
      ]
    },
    {
      "cell_type": "code",
      "source": [
        "#operations in pandas\n",
        "q1_sales * 2"
      ],
      "metadata": {
        "colab": {
          "base_uri": "https://localhost:8080/"
        },
        "id": "XRSJIs6nX_Yk",
        "outputId": "998652e2-e1c8-4239-ad3c-09f8306e3efe"
      },
      "execution_count": 56,
      "outputs": [
        {
          "output_type": "execute_result",
          "data": {
            "text/plain": [
              "INDIA     180\n",
              "CHINA     240\n",
              "BRAZIL    100\n",
              "USA       160\n",
              "dtype: int64"
            ]
          },
          "metadata": {},
          "execution_count": 56
        }
      ]
    },
    {
      "cell_type": "code",
      "source": [
        "q2_sales"
      ],
      "metadata": {
        "colab": {
          "base_uri": "https://localhost:8080/"
        },
        "id": "OLwGj7IeYHNk",
        "outputId": "62fd3738-dbf8-471b-f16b-074124d31df6"
      },
      "execution_count": 57,
      "outputs": [
        {
          "output_type": "execute_result",
          "data": {
            "text/plain": [
              "USA          120\n",
              "INDIA        200\n",
              "AUSTRALIA    210\n",
              "CHINA         80\n",
              "dtype: int64"
            ]
          },
          "metadata": {},
          "execution_count": 57
        }
      ]
    },
    {
      "cell_type": "code",
      "source": [
        "q2_sales/10"
      ],
      "metadata": {
        "colab": {
          "base_uri": "https://localhost:8080/"
        },
        "id": "HxbXaV6cYLGS",
        "outputId": "5b1c17a8-39d7-4ba2-f478-18ae30734d1f"
      },
      "execution_count": 58,
      "outputs": [
        {
          "output_type": "execute_result",
          "data": {
            "text/plain": [
              "USA          12.0\n",
              "INDIA        20.0\n",
              "AUSTRALIA    21.0\n",
              "CHINA         8.0\n",
              "dtype: float64"
            ]
          },
          "metadata": {},
          "execution_count": 58
        }
      ]
    },
    {
      "cell_type": "code",
      "source": [
        "q1_sales + q2_sales"
      ],
      "metadata": {
        "colab": {
          "base_uri": "https://localhost:8080/"
        },
        "id": "HwZkHEmqYMmI",
        "outputId": "5e502bb3-707e-4634-8dcc-24127aaa3b35"
      },
      "execution_count": 59,
      "outputs": [
        {
          "output_type": "execute_result",
          "data": {
            "text/plain": [
              "AUSTRALIA      NaN\n",
              "BRAZIL         NaN\n",
              "CHINA        200.0\n",
              "INDIA        290.0\n",
              "USA          200.0\n",
              "dtype: float64"
            ]
          },
          "metadata": {},
          "execution_count": 59
        }
      ]
    },
    {
      "cell_type": "code",
      "source": [
        "first_half = q1_sales.add(q2_sales, fill_value=0)"
      ],
      "metadata": {
        "id": "1Sg1RACBcIY0"
      },
      "execution_count": 62,
      "outputs": []
    },
    {
      "cell_type": "code",
      "source": [
        "first_half.dtype"
      ],
      "metadata": {
        "colab": {
          "base_uri": "https://localhost:8080/"
        },
        "id": "3VXzM5sxeA3X",
        "outputId": "dc74591d-44e5-47a0-e1a8-e4cabaaf9bba"
      },
      "execution_count": 63,
      "outputs": [
        {
          "output_type": "execute_result",
          "data": {
            "text/plain": [
              "dtype('float64')"
            ]
          },
          "metadata": {},
          "execution_count": 63
        }
      ]
    },
    {
      "cell_type": "code",
      "source": [
        "first_half"
      ],
      "metadata": {
        "colab": {
          "base_uri": "https://localhost:8080/"
        },
        "id": "u4CcnXJ-erSr",
        "outputId": "9b6b21d7-6d35-4391-c5c4-50b4adef9a17"
      },
      "execution_count": 64,
      "outputs": [
        {
          "output_type": "execute_result",
          "data": {
            "text/plain": [
              "AUSTRALIA    210.0\n",
              "BRAZIL        50.0\n",
              "CHINA        200.0\n",
              "INDIA        290.0\n",
              "USA          200.0\n",
              "dtype: float64"
            ]
          },
          "metadata": {},
          "execution_count": 64
        }
      ]
    },
    {
      "cell_type": "code",
      "source": [
        ""
      ],
      "metadata": {
        "id": "jKBFskPcewrl"
      },
      "execution_count": null,
      "outputs": []
    }
  ]
}